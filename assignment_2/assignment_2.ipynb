{
 "cells": [
  {
   "cell_type": "markdown",
   "metadata": {},
   "source": [
    "# Assignment - 2"
   ]
  },
  {
   "cell_type": "markdown",
   "metadata": {},
   "source": [
    "\n",
    "<img src = \"2020-04-25.png\">\n",
    "\n",
    "<img src = \"2020-04-25 (1).png\">\n",
    "\n",
    "<img src = \"2020-04-25 (2).png\">"
   ]
  },
  {
   "cell_type": "markdown",
   "metadata": {},
   "source": [
    "# 1"
   ]
  },
  {
   "cell_type": "code",
   "execution_count": 24,
   "metadata": {},
   "outputs": [
    {
     "name": "stdout",
     "output_type": "stream",
     "text": [
      "-100, -98, -96, -94, -92, -90, -88, -86, -84, -82, -80, -78, -76, -74, -72, -70, -68, -66, -64, -62, -60, -58, -56, -54, -52, -50, -48, -46, -44, -42, -40, -38, -36, -34, -32, -30, -28, -26, -24, -22, -20, -18, -16, -14, -12, -10, -8, -6, -4, -2, 0, "
     ]
    }
   ],
   "source": [
    "for x in range(-100,2):\n",
    "    if (x % 2) == 0:print(x,end=\", \")\n",
    "   "
   ]
  },
  {
   "cell_type": "code",
   "execution_count": 13,
   "metadata": {},
   "outputs": [],
   "source": [
    "#2"
   ]
  },
  {
   "cell_type": "code",
   "execution_count": 25,
   "metadata": {},
   "outputs": [
    {
     "name": "stdout",
     "output_type": "stream",
     "text": [
      "-99, -97, -95, -93, -91, -89, -87, -85, -83, -81, -79, -77, -75, -73, -71, -69, -67, -65, -63, -61, -59, -57, -55, -53, -51, -49, -47, -45, -43, -41, -39, -37, -35, -33, -31, -29, -27, -25, -23, -21, -19, -17, -15, -13, -11, -9, -7, -5, -3, -1, 1, "
     ]
    }
   ],
   "source": [
    "for x in range(-100,2):\n",
    "    if (x % 2) != 0:print(x,end=\", \")"
   ]
  },
  {
   "cell_type": "code",
   "execution_count": null,
   "metadata": {},
   "outputs": [],
   "source": [
    "#3"
   ]
  },
  {
   "cell_type": "code",
   "execution_count": 28,
   "metadata": {},
   "outputs": [
    {
     "name": "stdout",
     "output_type": "stream",
     "text": [
      "-10, -9, -8, -7, -6, -5, -4, -3, -2, -1, 0, 1, 2, 3, 4, 5, 6, 7, 8, 9, 10, 11, 12, 13, 14, 15, 16, 17, 18, 19, 20, 21, 22, 23, 24, 25, 26, 27, 28, 29, 30, 31, 32, 33, 34, 35, 36, 37, 38, 39, 40, 41, 42, 43, 44, 45, 46, 47, 48, 49, 50, 51, 52, 53, 54, 55, 56, 57, 58, 59, 60, 61, 62, 63, 64, 65, 66, 67, 68, 69, 70, 71, 72, 73, 74, 75, 76, 77, 78, 79, 80, 81, 82, 83, 84, 85, 86, 87, 88, 89, 90, 91, 92, 93, 94, 95, 96, 97, 98, 99, "
     ]
    }
   ],
   "source": [
    "for x in range(-10,100,1):\n",
    "    print(x,end=\", \")\n"
   ]
  },
  {
   "cell_type": "code",
   "execution_count": null,
   "metadata": {},
   "outputs": [],
   "source": [
    "#4"
   ]
  },
  {
   "cell_type": "code",
   "execution_count": 41,
   "metadata": {},
   "outputs": [
    {
     "name": "stdout",
     "output_type": "stream",
     "text": [
      "1\n",
      "22\n",
      "333\n",
      "4444\n",
      "55555\n",
      "666666\n",
      "7777777\n",
      "88888888\n",
      "999999999\n"
     ]
    }
   ],
   "source": [
    "n=10\n",
    "for x in range(1,n):\n",
    "    print(x*\"{}\".format(x))"
   ]
  },
  {
   "cell_type": "code",
   "execution_count": null,
   "metadata": {},
   "outputs": [],
   "source": [
    "#5"
   ]
  },
  {
   "cell_type": "code",
   "execution_count": 68,
   "metadata": {},
   "outputs": [
    {
     "name": "stdout",
     "output_type": "stream",
     "text": [
      "                   1 \n",
      "                 1 2 1 \n",
      "               1 2 3 2 1 \n",
      "             1 2 3 4 3 2 1 \n",
      "           1 2 3 4 5 4 3 2 1 \n",
      "         1 2 3 4 5 6 5 4 3 2 1 \n",
      "       1 2 3 4 5 6 7 6 5 4 3 2 1 \n",
      "     1 2 3 4 5 6 7 8 7 6 5 4 3 2 1 \n",
      "   1 2 3 4 5 6 7 8 9 8 7 6 5 4 3 2 1 \n",
      "   1 2 3 4 5 6 7 8 9 \n",
      "     1 2 3 4 5 6 7 8 \n",
      "       1 2 3 4 5 6 7 \n",
      "         1 2 3 4 5 6 \n",
      "           1 2 3 4 5 \n",
      "             1 2 3 4 \n",
      "               1 2 3 \n",
      "                 1 2 \n",
      "                   1 \n"
     ]
    }
   ],
   "source": [
    "n=10\n",
    "\n",
    "for i in range(1,n):\n",
    "    Triangel_1=1\n",
    "    Triangel_2=i-1\n",
    "    \n",
    "    print((n-i)*\"  \",end=\" \")\n",
    "    \n",
    "    for j in range(i):\n",
    "        print(Triangel_1,end=\" \")\n",
    "        Triangel_1+=1\n",
    "    for k in range(i-1):\n",
    "        print(Triangel_2,end=\" \")\n",
    "        Triangel_2-=1\n",
    "    print(\"\")\n",
    "    \n",
    "\n",
    "for j in range(1,n):\n",
    "    Triangel_3=1\n",
    "    print(j*\"  \",end=\" \")\n",
    "    for k in range(n-j):\n",
    "        print(Triangel_3,end=\" \")\n",
    "        Triangel_3+=1\n",
    "    print(\"\")"
   ]
  },
  {
   "cell_type": "code",
   "execution_count": null,
   "metadata": {},
   "outputs": [],
   "source": [
    "#6"
   ]
  },
  {
   "cell_type": "code",
   "execution_count": 70,
   "metadata": {},
   "outputs": [
    {
     "name": "stdout",
     "output_type": "stream",
     "text": [
      "0\t0\t0\t0\t0\t0\t0\t0\t0\t0\t\n",
      "0\t1\t2\t3\t4\t5\t6\t7\t8\t9\t\n",
      "0\t2\t4\t6\t8\t10\t12\t14\t16\t18\t\n",
      "0\t3\t6\t9\t12\t15\t18\t21\t24\t27\t\n",
      "0\t4\t8\t12\t16\t20\t24\t28\t32\t36\t\n",
      "0\t5\t10\t15\t20\t25\t30\t35\t40\t45\t\n",
      "0\t6\t12\t18\t24\t30\t36\t42\t48\t54\t\n",
      "0\t7\t14\t21\t28\t35\t42\t49\t56\t63\t\n",
      "0\t8\t16\t24\t32\t40\t48\t56\t64\t72\t\n",
      "0\t9\t18\t27\t36\t45\t54\t63\t72\t81\t\n"
     ]
    }
   ],
   "source": [
    "n=10\n",
    "\n",
    "for i in range(n):\n",
    "    x=0\n",
    "    for j in range(n):\n",
    "        print(x*i, end=\"\\t\")\n",
    "        x+=1\n",
    "    print(\"\")"
   ]
  },
  {
   "cell_type": "code",
   "execution_count": null,
   "metadata": {},
   "outputs": [],
   "source": []
  }
 ],
 "metadata": {
  "kernelspec": {
   "display_name": "Python 3",
   "language": "python",
   "name": "python3"
  },
  "language_info": {
   "codemirror_mode": {
    "name": "ipython",
    "version": 3
   },
   "file_extension": ".py",
   "mimetype": "text/x-python",
   "name": "python",
   "nbconvert_exporter": "python",
   "pygments_lexer": "ipython3",
   "version": "3.7.6"
  }
 },
 "nbformat": 4,
 "nbformat_minor": 4
}
